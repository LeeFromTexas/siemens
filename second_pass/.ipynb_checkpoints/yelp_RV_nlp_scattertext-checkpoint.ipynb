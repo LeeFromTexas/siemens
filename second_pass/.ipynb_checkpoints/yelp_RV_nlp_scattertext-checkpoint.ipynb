{
 "cells": [
  {
   "cell_type": "markdown",
   "metadata": {},
   "source": [
    "# Scattertext spaCy with Yelp Dataset\n",
    "Exploratory data analysis and visualization for text data\n",
    "\n",
    "Medium Article - [Analyze Yelp Dataset with Scattertext spaCy](https://link.medium.com/k3DRTC57I1)\n",
    "\n",
    "[GitHub Repo](https://github.com/gyhou/yelp_dataset)\n",
    "\n",
    "https://www.yelp.com/dataset/"
   ]
  },
  {
   "cell_type": "code",
   "execution_count": 1,
   "metadata": {},
   "outputs": [
    {
     "name": "stdout",
     "output_type": "stream",
     "text": [
      "(5342, 15)\n"
     ]
    },
    {
     "data": {
      "text/html": [
       "<div>\n",
       "<style scoped>\n",
       "    .dataframe tbody tr th:only-of-type {\n",
       "        vertical-align: middle;\n",
       "    }\n",
       "\n",
       "    .dataframe tbody tr th {\n",
       "        vertical-align: top;\n",
       "    }\n",
       "\n",
       "    .dataframe thead th {\n",
       "        text-align: right;\n",
       "    }\n",
       "</style>\n",
       "<table border=\"1\" class=\"dataframe\">\n",
       "  <thead>\n",
       "    <tr style=\"text-align: right;\">\n",
       "      <th></th>\n",
       "      <th>business_id</th>\n",
       "      <th>name</th>\n",
       "      <th>address</th>\n",
       "      <th>city</th>\n",
       "      <th>state</th>\n",
       "      <th>postal_code</th>\n",
       "      <th>latitude</th>\n",
       "      <th>longitude</th>\n",
       "      <th>stars</th>\n",
       "      <th>attributes</th>\n",
       "      <th>categories</th>\n",
       "      <th>user_id</th>\n",
       "      <th>review_stars</th>\n",
       "      <th>text</th>\n",
       "      <th>date</th>\n",
       "    </tr>\n",
       "  </thead>\n",
       "  <tbody>\n",
       "    <tr>\n",
       "      <th>0</th>\n",
       "      <td>q0B39iv1bs16PO--eiMfIw</td>\n",
       "      <td>Hobo Camper Country</td>\n",
       "      <td>4020 Edmonton Trail NE</td>\n",
       "      <td>Calgary</td>\n",
       "      <td>AB</td>\n",
       "      <td>T2E 3P6</td>\n",
       "      <td>51.088523</td>\n",
       "      <td>-114.051507</td>\n",
       "      <td>1.5</td>\n",
       "      <td>NaN</td>\n",
       "      <td>RV Repair, Auto Repair, Automotive</td>\n",
       "      <td>DLURbx1V0QyJrntcTyMR4w</td>\n",
       "      <td>1</td>\n",
       "      <td>it is todays experience that got HCC (Hobo Cam...</td>\n",
       "      <td>2016-09-06 18:06:23</td>\n",
       "    </tr>\n",
       "    <tr>\n",
       "      <th>1</th>\n",
       "      <td>q0B39iv1bs16PO--eiMfIw</td>\n",
       "      <td>Hobo Camper Country</td>\n",
       "      <td>4020 Edmonton Trail NE</td>\n",
       "      <td>Calgary</td>\n",
       "      <td>AB</td>\n",
       "      <td>T2E 3P6</td>\n",
       "      <td>51.088523</td>\n",
       "      <td>-114.051507</td>\n",
       "      <td>1.5</td>\n",
       "      <td>NaN</td>\n",
       "      <td>RV Repair, Auto Repair, Automotive</td>\n",
       "      <td>0RsS3-oJ_MBJ-Fb9I-oBhA</td>\n",
       "      <td>2</td>\n",
       "      <td>Meh, needed parts got attitude.  went somewher...</td>\n",
       "      <td>2016-08-11 17:56:24</td>\n",
       "    </tr>\n",
       "    <tr>\n",
       "      <th>2</th>\n",
       "      <td>q0B39iv1bs16PO--eiMfIw</td>\n",
       "      <td>Hobo Camper Country</td>\n",
       "      <td>4020 Edmonton Trail NE</td>\n",
       "      <td>Calgary</td>\n",
       "      <td>AB</td>\n",
       "      <td>T2E 3P6</td>\n",
       "      <td>51.088523</td>\n",
       "      <td>-114.051507</td>\n",
       "      <td>1.5</td>\n",
       "      <td>NaN</td>\n",
       "      <td>RV Repair, Auto Repair, Automotive</td>\n",
       "      <td>X_W-pHzDboM1jGz60f81cA</td>\n",
       "      <td>1</td>\n",
       "      <td>My father took his motorhome in to get the Ant...</td>\n",
       "      <td>2016-09-26 02:25:28</td>\n",
       "    </tr>\n",
       "    <tr>\n",
       "      <th>3</th>\n",
       "      <td>SW_bePWPlMZJZGQ4eT9vrA</td>\n",
       "      <td>E's RV Appliance Repair</td>\n",
       "      <td>1959 S Power Rd, Ste 103-238</td>\n",
       "      <td>Mesa</td>\n",
       "      <td>AZ</td>\n",
       "      <td>85206</td>\n",
       "      <td>33.379981</td>\n",
       "      <td>-111.687220</td>\n",
       "      <td>5.0</td>\n",
       "      <td>{'ByAppointmentOnly': 'True', 'BusinessAccepts...</td>\n",
       "      <td>Automotive, Water Heater Installation/Repair, ...</td>\n",
       "      <td>pR29E9_ird-h26CY7t18Ag</td>\n",
       "      <td>5</td>\n",
       "      <td>Eric was great! He diagnosed my LQ horse trail...</td>\n",
       "      <td>2018-05-21 15:46:27</td>\n",
       "    </tr>\n",
       "    <tr>\n",
       "      <th>4</th>\n",
       "      <td>SW_bePWPlMZJZGQ4eT9vrA</td>\n",
       "      <td>E's RV Appliance Repair</td>\n",
       "      <td>1959 S Power Rd, Ste 103-238</td>\n",
       "      <td>Mesa</td>\n",
       "      <td>AZ</td>\n",
       "      <td>85206</td>\n",
       "      <td>33.379981</td>\n",
       "      <td>-111.687220</td>\n",
       "      <td>5.0</td>\n",
       "      <td>{'ByAppointmentOnly': 'True', 'BusinessAccepts...</td>\n",
       "      <td>Automotive, Water Heater Installation/Repair, ...</td>\n",
       "      <td>KGZGa7Hnx6WiAVqtV_uizQ</td>\n",
       "      <td>5</td>\n",
       "      <td>Always ready to help us whenever we are in tow...</td>\n",
       "      <td>2018-04-29 23:23:56</td>\n",
       "    </tr>\n",
       "  </tbody>\n",
       "</table>\n",
       "</div>"
      ],
      "text/plain": [
       "              business_id                     name  \\\n",
       "0  q0B39iv1bs16PO--eiMfIw      Hobo Camper Country   \n",
       "1  q0B39iv1bs16PO--eiMfIw      Hobo Camper Country   \n",
       "2  q0B39iv1bs16PO--eiMfIw      Hobo Camper Country   \n",
       "3  SW_bePWPlMZJZGQ4eT9vrA  E's RV Appliance Repair   \n",
       "4  SW_bePWPlMZJZGQ4eT9vrA  E's RV Appliance Repair   \n",
       "\n",
       "                        address     city state postal_code   latitude  \\\n",
       "0        4020 Edmonton Trail NE  Calgary    AB     T2E 3P6  51.088523   \n",
       "1        4020 Edmonton Trail NE  Calgary    AB     T2E 3P6  51.088523   \n",
       "2        4020 Edmonton Trail NE  Calgary    AB     T2E 3P6  51.088523   \n",
       "3  1959 S Power Rd, Ste 103-238     Mesa    AZ       85206  33.379981   \n",
       "4  1959 S Power Rd, Ste 103-238     Mesa    AZ       85206  33.379981   \n",
       "\n",
       "    longitude  stars                                         attributes  \\\n",
       "0 -114.051507    1.5                                                NaN   \n",
       "1 -114.051507    1.5                                                NaN   \n",
       "2 -114.051507    1.5                                                NaN   \n",
       "3 -111.687220    5.0  {'ByAppointmentOnly': 'True', 'BusinessAccepts...   \n",
       "4 -111.687220    5.0  {'ByAppointmentOnly': 'True', 'BusinessAccepts...   \n",
       "\n",
       "                                          categories                 user_id  \\\n",
       "0                 RV Repair, Auto Repair, Automotive  DLURbx1V0QyJrntcTyMR4w   \n",
       "1                 RV Repair, Auto Repair, Automotive  0RsS3-oJ_MBJ-Fb9I-oBhA   \n",
       "2                 RV Repair, Auto Repair, Automotive  X_W-pHzDboM1jGz60f81cA   \n",
       "3  Automotive, Water Heater Installation/Repair, ...  pR29E9_ird-h26CY7t18Ag   \n",
       "4  Automotive, Water Heater Installation/Repair, ...  KGZGa7Hnx6WiAVqtV_uizQ   \n",
       "\n",
       "   review_stars                                               text  \\\n",
       "0             1  it is todays experience that got HCC (Hobo Cam...   \n",
       "1             2  Meh, needed parts got attitude.  went somewher...   \n",
       "2             1  My father took his motorhome in to get the Ant...   \n",
       "3             5  Eric was great! He diagnosed my LQ horse trail...   \n",
       "4             5  Always ready to help us whenever we are in tow...   \n",
       "\n",
       "                  date  \n",
       "0  2016-09-06 18:06:23  \n",
       "1  2016-08-11 17:56:24  \n",
       "2  2016-09-26 02:25:28  \n",
       "3  2018-05-21 15:46:27  \n",
       "4  2018-04-29 23:23:56  "
      ]
     },
     "execution_count": 1,
     "metadata": {},
     "output_type": "execute_result"
    }
   ],
   "source": [
    "import pandas as pd\n",
    "\n",
    "# csv file can be found in the github repo\n",
    "df = pd.read_csv('yelp_reviews_RV_categories.csv')\n",
    "print(df.shape)\n",
    "df.head()"
   ]
  },
  {
   "cell_type": "code",
   "execution_count": 2,
   "metadata": {},
   "outputs": [],
   "source": [
    "# Check how rating is distributed\n",
    "import seaborn as sns\n",
    "sns.distplot(df['review_stars']);"
   ]
  },
  {
   "cell_type": "code",
   "execution_count": 3,
   "metadata": {},
   "outputs": [
    {
     "data": {
      "text/plain": [
       "High Rating    3223\n",
       "Low Rating     2119\n",
       "Name: rating, dtype: int64"
      ]
     },
     "execution_count": 3,
     "metadata": {},
     "output_type": "execute_result"
    }
   ],
   "source": [
    "# Consolidate rating to high or low\n",
    "df['rating'] = df['review_stars'].replace({1:'Low Rating', 2:'Low Rating', 3:'Low Rating',\n",
    "                                           4:'High Rating', 5:'High Rating'})\n",
    "df.rating.value_counts()"
   ]
  },
  {
   "cell_type": "code",
   "execution_count": null,
   "metadata": {},
   "outputs": [],
   "source": [
    "# Group similar categories\n",
    "df_RV_Auto = df[df['categories'].str.contains('RV Repair|RV Dealers|RV Rental', case=False, na=False)]\n",
    "df_Parks_Camp = df[df['categories'].str.contains('RV Parks|Campgrounds', case=False, na=False)]"
   ]
  },
  {
   "cell_type": "markdown",
   "metadata": {},
   "source": [
    "## Use NLP on review text"
   ]
  },
  {
   "cell_type": "code",
   "execution_count": null,
   "metadata": {},
   "outputs": [],
   "source": [
    "# Make sure you have the english language model\n",
    "# !python -m spacy download en_core_web_sm"
   ]
  },
  {
   "cell_type": "code",
   "execution_count": null,
   "metadata": {},
   "outputs": [],
   "source": [
    "import spacy\n",
    "import scattertext\n",
    "# https://spacy.io/models/en\n",
    "# use the english model that you have\n",
    "nlp = spacy.load('en_core_web_sm')"
   ]
  },
  {
   "cell_type": "code",
   "execution_count": null,
   "metadata": {},
   "outputs": [],
   "source": [
    "# Create a text file to add stop words\n",
    "with open('stopwords.txt', 'r') as f:\n",
    "    str_f = f.read()\n",
    "    stopwords_file = set(str_f.split('\\n'))\n",
    "nlp.Defaults.stop_words |= stopwords_file"
   ]
  },
  {
   "cell_type": "code",
   "execution_count": null,
   "metadata": {},
   "outputs": [],
   "source": [
    "# Add more stop words\n",
    "from nltk.corpus import stopwords\n",
    "stopWords = set(stopwords.words('english'))\n",
    "nlp.Defaults.stop_words |= stopWords "
   ]
  },
  {
   "cell_type": "markdown",
   "metadata": {},
   "source": [
    "### Set up corpus - Term Frequency and Scaled F-Score"
   ]
  },
  {
   "cell_type": "code",
   "execution_count": null,
   "metadata": {},
   "outputs": [],
   "source": [
    "def term_freq(df_yelp):\n",
    "    corpus = (scattertext.CorpusFromPandas(df_yelp,\n",
    "                                           category_col='rating', \n",
    "                                           text_col='text',\n",
    "                                           nlp=nlp)\n",
    "              .build()\n",
    "              .remove_terms(nlp.Defaults.stop_words, ignore_absences=True)\n",
    "              # ignore_absences: if the term does not appear, don't raise an error, just move on.\n",
    "              )\n",
    "    \n",
    "    df = corpus.get_term_freq_df()\n",
    "    df['High_Rating_Score'] = corpus.get_scaled_f_scores('High Rating')\n",
    "    df['Low_Rating_Score'] = corpus.get_scaled_f_scores('Low Rating')\n",
    "\n",
    "    df['High_Rating_Score'] = round(df['High_Rating_Score'], 2)\n",
    "    df['Low_Rating_Score'] = round(df['Low_Rating_Score'], 2)\n",
    "    \n",
    "    df_high = df.sort_values(by='High Rating freq', \n",
    "                             ascending = False).reset_index()\n",
    "    df_low = df.sort_values(by='Low Rating freq', \n",
    "                            ascending=False).reset_index()\n",
    "    \n",
    "    return df_high, df_low"
   ]
  },
  {
   "cell_type": "code",
   "execution_count": null,
   "metadata": {},
   "outputs": [],
   "source": [
    "# Frequency and Scaled F-Score for RV Parks and Campgrounds\n",
    "Parks_Camp_high, Parks_Camp_low = term_freq(df_Parks_Camp)"
   ]
  },
  {
   "cell_type": "code",
   "execution_count": null,
   "metadata": {},
   "outputs": [],
   "source": [
    "# Sorted by High Rating Frequency\n",
    "Parks_Camp_high.head(10)"
   ]
  },
  {
   "cell_type": "code",
   "execution_count": null,
   "metadata": {},
   "outputs": [],
   "source": [
    "# Sorted by Low Rating Frequency\n",
    "Parks_Camp_low.head(10)"
   ]
  },
  {
   "cell_type": "code",
   "execution_count": null,
   "metadata": {},
   "outputs": [],
   "source": [
    "# Frequency and Scaled F-Score for RV Repair, RV Dealers and RV Rental\n",
    "RV_Auto_high, RV_Auto_low = term_freq(df_RV_Auto)"
   ]
  },
  {
   "cell_type": "code",
   "execution_count": null,
   "metadata": {},
   "outputs": [],
   "source": [
    "RV_Auto_high.head(10)"
   ]
  },
  {
   "cell_type": "code",
   "execution_count": null,
   "metadata": {},
   "outputs": [],
   "source": [
    "RV_Auto_low.head(10)"
   ]
  },
  {
   "cell_type": "code",
   "execution_count": null,
   "metadata": {},
   "outputs": [],
   "source": [
    "# Frequency and Scaled F-Score for all 5 RV categories\n",
    "RV_all_high, RV_all_low = term_freq(df)"
   ]
  },
  {
   "cell_type": "code",
   "execution_count": null,
   "metadata": {},
   "outputs": [],
   "source": [
    "RV_all_high.head(10)"
   ]
  },
  {
   "cell_type": "code",
   "execution_count": null,
   "metadata": {},
   "outputs": [],
   "source": [
    "RV_all_low.head(10)"
   ]
  },
  {
   "cell_type": "markdown",
   "metadata": {},
   "source": [
    "## Using Scattertext to visualize term associations"
   ]
  },
  {
   "cell_type": "code",
   "execution_count": null,
   "metadata": {},
   "outputs": [],
   "source": [
    "# Label each excerpt with the name of business using the metadata parameter\n",
    "corpus_dataframe = df_Parks_Camp\n",
    "html = scattertext.produce_scattertext_explorer(corpus,\n",
    "                                                category='Low Rating',\n",
    "                                                category_name='Low Rating',\n",
    "                                                not_category_name='High Rating',\n",
    "                                                width_in_pixels=1000,\n",
    "                                                metadata=corpus_dataframe['name'])"
   ]
  },
  {
   "cell_type": "code",
   "execution_count": null,
   "metadata": {},
   "outputs": [],
   "source": [
    "html_file_name = \"RV-Parks-Campgrounds-Yelp-Review-Scattertext.html\"\n",
    "open(html_file_name, 'wb').write(html.encode('utf-8'))"
   ]
  }
 ],
 "metadata": {
  "kernelspec": {
   "display_name": "Python 3",
   "language": "python",
   "name": "python3"
  },
  "language_info": {
   "codemirror_mode": {
    "name": "ipython",
    "version": 3
   },
   "file_extension": ".py",
   "mimetype": "text/x-python",
   "name": "python",
   "nbconvert_exporter": "python",
   "pygments_lexer": "ipython3",
   "version": "3.7.3"
  }
 },
 "nbformat": 4,
 "nbformat_minor": 4
}
